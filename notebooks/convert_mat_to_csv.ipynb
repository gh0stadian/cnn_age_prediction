{
 "nbformat": 4,
 "nbformat_minor": 0,
 "metadata": {
  "colab": {
   "name": "Untitled3.ipynb",
   "provenance": []
  },
  "kernelspec": {
   "name": "python3",
   "display_name": "Python 3"
  },
  "language_info": {
   "name": "python"
  }
 },
 "cells": [
  {
   "cell_type": "code",
   "execution_count": 4,
   "metadata": {
    "id": "If48lygbKcIP"
   },
   "outputs": [],
   "source": [
    "from scipy.io import loadmat\n",
    "import pandas as pd\n",
    "import numpy as np"
   ]
  },
  {
   "cell_type": "code",
   "source": [
    "data = loadmat(\"imdb.mat\")"
   ],
   "metadata": {
    "id": "wvfUSKTWKpPP",
    "colab": {
     "base_uri": "https://localhost:8080/",
     "height": 453
    },
    "outputId": "e35e7de0-e97e-4a38-9452-4022e9b6cea2"
   },
   "execution_count": 3,
   "outputs": []
  },
  {
   "cell_type": "code",
   "execution_count": 6,
   "outputs": [
    {
     "data": {
      "text/plain": "         dob  photo_taken                                       full_path  \\\n0       1899         1968   [01/nm0000001_rm124825600_1899-5-10_1968.jpg]   \n1       1899         1970  [01/nm0000001_rm3343756032_1899-5-10_1970.jpg]   \n2       1899         1968   [01/nm0000001_rm577153792_1899-5-10_1968.jpg]   \n3       1899         1968   [01/nm0000001_rm946909184_1899-5-10_1968.jpg]   \n4       1899         1968   [01/nm0000001_rm980463616_1899-5-10_1968.jpg]   \n...      ...          ...                                             ...   \n460718  1989         2011  [08/nm3994408_rm761245696_1989-12-29_2011.jpg]   \n460719  1989         2011  [08/nm3994408_rm784182528_1989-12-29_2011.jpg]   \n460720  1989         2011  [08/nm3994408_rm926592512_1989-12-29_2011.jpg]   \n460721  1989         2011  [08/nm3994408_rm943369728_1989-12-29_2011.jpg]   \n460722  1989         2011  [08/nm3994408_rm976924160_1989-12-29_2011.jpg]   \n\n        gender            name  \\\n0          1.0  [Fred Astaire]   \n1          1.0  [Fred Astaire]   \n2          1.0  [Fred Astaire]   \n3          1.0  [Fred Astaire]   \n4          1.0  [Fred Astaire]   \n...        ...             ...   \n460718     0.0     [Jane Levy]   \n460719     0.0     [Jane Levy]   \n460720     0.0     [Jane Levy]   \n460721     0.0     [Jane Levy]   \n460722     0.0     [Jane Levy]   \n\n                                            face_location  face_score  \\\n0       [[1072.926, 161.838, 1214.7839999999999, 303.6...    1.459693   \n1                   [[477.184, 100.352, 622.592, 245.76]]    2.543198   \n2       [[114.96964308962852, 114.96964308962852, 451....    3.455579   \n3       [[622.8855056426588, 424.21750383700805, 844.3...    1.872117   \n4       [[1013.8590023603723, 233.8820422075853, 1201....    1.158766   \n...                                                   ...         ...   \n460718  [[453.8981431333457, 77.96623712908011, 539.79...    3.845884   \n460719                                 [[1, 1, 426, 640]]        -inf   \n460720                                 [[1, 1, 453, 640]]        -inf   \n460721  [[144.75225471724875, 126.76472287759263, 305....    4.450725   \n460722               [[457.524, 41.748, 518.016, 102.24]]    2.133503   \n\n        second_face_score              celeb_names  celeb_id  age  \n0                1.118973  ['Lee' George Quinones]      6488   69  \n1                1.852008    ['Weird Al' Yankovic]      6488   71  \n2                2.985660               [2 Chainz]      6488   69  \n3                     NaN                [50 Cent]      6488   69  \n4                     NaN             [A Martinez]      6488   69  \n...                   ...                      ...       ...  ...  \n460718                NaN                      NaN      8410   22  \n460719                NaN                      NaN      8410   22  \n460720                NaN                      NaN      8410   22  \n460721                NaN                      NaN      8410   22  \n460722                NaN                      NaN      8410   22  \n\n[460723 rows x 11 columns]",
      "text/html": "<div>\n<style scoped>\n    .dataframe tbody tr th:only-of-type {\n        vertical-align: middle;\n    }\n\n    .dataframe tbody tr th {\n        vertical-align: top;\n    }\n\n    .dataframe thead th {\n        text-align: right;\n    }\n</style>\n<table border=\"1\" class=\"dataframe\">\n  <thead>\n    <tr style=\"text-align: right;\">\n      <th></th>\n      <th>dob</th>\n      <th>photo_taken</th>\n      <th>full_path</th>\n      <th>gender</th>\n      <th>name</th>\n      <th>face_location</th>\n      <th>face_score</th>\n      <th>second_face_score</th>\n      <th>celeb_names</th>\n      <th>celeb_id</th>\n      <th>age</th>\n    </tr>\n  </thead>\n  <tbody>\n    <tr>\n      <th>0</th>\n      <td>1899</td>\n      <td>1968</td>\n      <td>[01/nm0000001_rm124825600_1899-5-10_1968.jpg]</td>\n      <td>1.0</td>\n      <td>[Fred Astaire]</td>\n      <td>[[1072.926, 161.838, 1214.7839999999999, 303.6...</td>\n      <td>1.459693</td>\n      <td>1.118973</td>\n      <td>['Lee' George Quinones]</td>\n      <td>6488</td>\n      <td>69</td>\n    </tr>\n    <tr>\n      <th>1</th>\n      <td>1899</td>\n      <td>1970</td>\n      <td>[01/nm0000001_rm3343756032_1899-5-10_1970.jpg]</td>\n      <td>1.0</td>\n      <td>[Fred Astaire]</td>\n      <td>[[477.184, 100.352, 622.592, 245.76]]</td>\n      <td>2.543198</td>\n      <td>1.852008</td>\n      <td>['Weird Al' Yankovic]</td>\n      <td>6488</td>\n      <td>71</td>\n    </tr>\n    <tr>\n      <th>2</th>\n      <td>1899</td>\n      <td>1968</td>\n      <td>[01/nm0000001_rm577153792_1899-5-10_1968.jpg]</td>\n      <td>1.0</td>\n      <td>[Fred Astaire]</td>\n      <td>[[114.96964308962852, 114.96964308962852, 451....</td>\n      <td>3.455579</td>\n      <td>2.985660</td>\n      <td>[2 Chainz]</td>\n      <td>6488</td>\n      <td>69</td>\n    </tr>\n    <tr>\n      <th>3</th>\n      <td>1899</td>\n      <td>1968</td>\n      <td>[01/nm0000001_rm946909184_1899-5-10_1968.jpg]</td>\n      <td>1.0</td>\n      <td>[Fred Astaire]</td>\n      <td>[[622.8855056426588, 424.21750383700805, 844.3...</td>\n      <td>1.872117</td>\n      <td>NaN</td>\n      <td>[50 Cent]</td>\n      <td>6488</td>\n      <td>69</td>\n    </tr>\n    <tr>\n      <th>4</th>\n      <td>1899</td>\n      <td>1968</td>\n      <td>[01/nm0000001_rm980463616_1899-5-10_1968.jpg]</td>\n      <td>1.0</td>\n      <td>[Fred Astaire]</td>\n      <td>[[1013.8590023603723, 233.8820422075853, 1201....</td>\n      <td>1.158766</td>\n      <td>NaN</td>\n      <td>[A Martinez]</td>\n      <td>6488</td>\n      <td>69</td>\n    </tr>\n    <tr>\n      <th>...</th>\n      <td>...</td>\n      <td>...</td>\n      <td>...</td>\n      <td>...</td>\n      <td>...</td>\n      <td>...</td>\n      <td>...</td>\n      <td>...</td>\n      <td>...</td>\n      <td>...</td>\n      <td>...</td>\n    </tr>\n    <tr>\n      <th>460718</th>\n      <td>1989</td>\n      <td>2011</td>\n      <td>[08/nm3994408_rm761245696_1989-12-29_2011.jpg]</td>\n      <td>0.0</td>\n      <td>[Jane Levy]</td>\n      <td>[[453.8981431333457, 77.96623712908011, 539.79...</td>\n      <td>3.845884</td>\n      <td>NaN</td>\n      <td>NaN</td>\n      <td>8410</td>\n      <td>22</td>\n    </tr>\n    <tr>\n      <th>460719</th>\n      <td>1989</td>\n      <td>2011</td>\n      <td>[08/nm3994408_rm784182528_1989-12-29_2011.jpg]</td>\n      <td>0.0</td>\n      <td>[Jane Levy]</td>\n      <td>[[1, 1, 426, 640]]</td>\n      <td>-inf</td>\n      <td>NaN</td>\n      <td>NaN</td>\n      <td>8410</td>\n      <td>22</td>\n    </tr>\n    <tr>\n      <th>460720</th>\n      <td>1989</td>\n      <td>2011</td>\n      <td>[08/nm3994408_rm926592512_1989-12-29_2011.jpg]</td>\n      <td>0.0</td>\n      <td>[Jane Levy]</td>\n      <td>[[1, 1, 453, 640]]</td>\n      <td>-inf</td>\n      <td>NaN</td>\n      <td>NaN</td>\n      <td>8410</td>\n      <td>22</td>\n    </tr>\n    <tr>\n      <th>460721</th>\n      <td>1989</td>\n      <td>2011</td>\n      <td>[08/nm3994408_rm943369728_1989-12-29_2011.jpg]</td>\n      <td>0.0</td>\n      <td>[Jane Levy]</td>\n      <td>[[144.75225471724875, 126.76472287759263, 305....</td>\n      <td>4.450725</td>\n      <td>NaN</td>\n      <td>NaN</td>\n      <td>8410</td>\n      <td>22</td>\n    </tr>\n    <tr>\n      <th>460722</th>\n      <td>1989</td>\n      <td>2011</td>\n      <td>[08/nm3994408_rm976924160_1989-12-29_2011.jpg]</td>\n      <td>0.0</td>\n      <td>[Jane Levy]</td>\n      <td>[[457.524, 41.748, 518.016, 102.24]]</td>\n      <td>2.133503</td>\n      <td>NaN</td>\n      <td>NaN</td>\n      <td>8410</td>\n      <td>22</td>\n    </tr>\n  </tbody>\n</table>\n<p>460723 rows × 11 columns</p>\n</div>"
     },
     "execution_count": 6,
     "metadata": {},
     "output_type": "execute_result"
    }
   ],
   "source": [
    "import datetime\n",
    "\n",
    "mdata = data['imdb']  # variable in mat file\n",
    "mdtype = mdata.dtype\n",
    "ndata = {n: mdata[n][0, 0] for n in mdtype.names}\n",
    "df = pd.DataFrame()\n",
    "for key in ndata:\n",
    "    df[key] = pd.DataFrame(ndata[key].T)\n",
    "df['dob'] = df['dob'].apply(lambda x: datetime.date.fromordinal(np.max([x - 366, 1])).year)\n",
    "df['age'] = df['photo_taken'] - df['dob']\n",
    "df"
   ],
   "metadata": {
    "collapsed": false,
    "pycharm": {
     "name": "#%%\n"
    }
   }
  },
  {
   "cell_type": "code",
   "execution_count": null,
   "outputs": [],
   "source": [
    "df.to_csv('imdb.csv')"
   ],
   "metadata": {
    "collapsed": false,
    "pycharm": {
     "name": "#%%\n"
    }
   }
  },
  {
   "cell_type": "code",
   "execution_count": 7,
   "outputs": [
    {
     "data": {
      "text/plain": "31      17428\n32      15860\n36      15605\n29      15309\n34      15224\n        ...  \n1998        1\n135         1\n131         1\n282         1\n110         1\nName: age, Length: 162, dtype: int64"
     },
     "execution_count": 7,
     "metadata": {},
     "output_type": "execute_result"
    }
   ],
   "source": [
    "df['age'].value_counts()"
   ],
   "metadata": {
    "collapsed": false,
    "pycharm": {
     "name": "#%%\n"
    }
   }
  },
  {
   "cell_type": "code",
   "execution_count": 5,
   "outputs": [
    {
     "data": {
      "text/plain": "        Unnamed: 0.1  Unnamed: 0   dob  photo_taken  \\\n0                  0           0  1899         1968   \n1                  1           1  1899         1970   \n2                  3           3  1899         1968   \n3                  4           4  1899         1968   \n4                  6           6  1924         2004   \n...              ...         ...   ...          ...   \n121959        460705      460705  1989         2011   \n121960        460707      460707  1989         2011   \n121961        460712      460712  1989         2012   \n121962        460716      460716  1989         2011   \n121963        460721      460721  1989         2011   \n\n                                           full_path  gender  \\\n0        01/nm0000001_rm124825600_1899-5-10_1968.jpg     1.0   \n1       01/nm0000001_rm3343756032_1899-5-10_1970.jpg     1.0   \n2        01/nm0000001_rm946909184_1899-5-10_1968.jpg     1.0   \n3        01/nm0000001_rm980463616_1899-5-10_1968.jpg     1.0   \n4       02/nm0000002_rm1346607872_1924-9-16_2004.jpg     0.0   \n...                                              ...     ...   \n121959  08/nm3994408_rm540716544_1989-12-29_2011.jpg     0.0   \n121960  08/nm3994408_rm543141888_1989-12-29_2011.jpg     0.0   \n121961  08/nm3994408_rm663989760_1989-12-29_2012.jpg     0.0   \n121962  08/nm3994408_rm744468480_1989-12-29_2011.jpg     0.0   \n121963  08/nm3994408_rm943369728_1989-12-29_2011.jpg     0.0   \n\n                     name                                      face_location  \\\n0        ['Fred Astaire']            [[1072.926  161.838 1214.784  303.696]]   \n1        ['Fred Astaire']                [[477.184 100.352 622.592 245.76 ]]   \n2        ['Fred Astaire']  [[622.88550564 424.21750384 844.33900767 645.6...   \n3        ['Fred Astaire']  [[1013.85900236  233.88204221 1201.5861278   4...   \n4       ['Lauren Bacall']  [[ 78.23569407  52.33512938 194.25423516 168.3...   \n...                   ...                                                ...   \n121959      ['Jane Levy']  [[249.2290693   88.51449505 379.87081187 219.1...   \n121960      ['Jane Levy']                    [[321.23 146.51 451.36 276.64]]   \n121961      ['Jane Levy']  [[1094.72200993  151.04900135 1316.17551196  3...   \n121962      ['Jane Levy']                [[300.756  96.276 422.592 218.112]]   \n121963      ['Jane Levy']  [[144.75225472 126.76472288 305.78804127 287.8...   \n\n        face_score  second_face_score                celeb_names  celeb_id  \\\n0         1.459693           1.118973  [\"'Lee' George Quinones\"]      6488   \n1         2.543198           1.852008    [\"'Weird Al' Yankovic\"]      6488   \n2         1.872117                NaN                ['50 Cent']      6488   \n3         1.158766                NaN             ['A Martinez']      6488   \n4         3.479189                NaN           ['A.J. Buckley']     11516   \n...            ...                ...                        ...       ...   \n121959    2.663068                NaN                        NaN      8410   \n121960    2.222078           0.776222                        NaN      8410   \n121961    3.594701           2.786236                        NaN      8410   \n121962    2.370091                NaN                        NaN      8410   \n121963    4.450725                NaN                        NaN      8410   \n\n        age  max_image_dim  \n0        69     141.858000  \n1        71     145.408000  \n2        69     221.453502  \n3        69     187.727125  \n4        80     116.018541  \n...     ...            ...  \n121959   22     130.641743  \n121960   22     130.130000  \n121961   23     221.453502  \n121962   22     121.836000  \n121963   22     161.035787  \n\n[121964 rows x 14 columns]",
      "text/html": "<div>\n<style scoped>\n    .dataframe tbody tr th:only-of-type {\n        vertical-align: middle;\n    }\n\n    .dataframe tbody tr th {\n        vertical-align: top;\n    }\n\n    .dataframe thead th {\n        text-align: right;\n    }\n</style>\n<table border=\"1\" class=\"dataframe\">\n  <thead>\n    <tr style=\"text-align: right;\">\n      <th></th>\n      <th>Unnamed: 0.1</th>\n      <th>Unnamed: 0</th>\n      <th>dob</th>\n      <th>photo_taken</th>\n      <th>full_path</th>\n      <th>gender</th>\n      <th>name</th>\n      <th>face_location</th>\n      <th>face_score</th>\n      <th>second_face_score</th>\n      <th>celeb_names</th>\n      <th>celeb_id</th>\n      <th>age</th>\n      <th>max_image_dim</th>\n    </tr>\n  </thead>\n  <tbody>\n    <tr>\n      <th>0</th>\n      <td>0</td>\n      <td>0</td>\n      <td>1899</td>\n      <td>1968</td>\n      <td>01/nm0000001_rm124825600_1899-5-10_1968.jpg</td>\n      <td>1.0</td>\n      <td>['Fred Astaire']</td>\n      <td>[[1072.926  161.838 1214.784  303.696]]</td>\n      <td>1.459693</td>\n      <td>1.118973</td>\n      <td>[\"'Lee' George Quinones\"]</td>\n      <td>6488</td>\n      <td>69</td>\n      <td>141.858000</td>\n    </tr>\n    <tr>\n      <th>1</th>\n      <td>1</td>\n      <td>1</td>\n      <td>1899</td>\n      <td>1970</td>\n      <td>01/nm0000001_rm3343756032_1899-5-10_1970.jpg</td>\n      <td>1.0</td>\n      <td>['Fred Astaire']</td>\n      <td>[[477.184 100.352 622.592 245.76 ]]</td>\n      <td>2.543198</td>\n      <td>1.852008</td>\n      <td>[\"'Weird Al' Yankovic\"]</td>\n      <td>6488</td>\n      <td>71</td>\n      <td>145.408000</td>\n    </tr>\n    <tr>\n      <th>2</th>\n      <td>3</td>\n      <td>3</td>\n      <td>1899</td>\n      <td>1968</td>\n      <td>01/nm0000001_rm946909184_1899-5-10_1968.jpg</td>\n      <td>1.0</td>\n      <td>['Fred Astaire']</td>\n      <td>[[622.88550564 424.21750384 844.33900767 645.6...</td>\n      <td>1.872117</td>\n      <td>NaN</td>\n      <td>['50 Cent']</td>\n      <td>6488</td>\n      <td>69</td>\n      <td>221.453502</td>\n    </tr>\n    <tr>\n      <th>3</th>\n      <td>4</td>\n      <td>4</td>\n      <td>1899</td>\n      <td>1968</td>\n      <td>01/nm0000001_rm980463616_1899-5-10_1968.jpg</td>\n      <td>1.0</td>\n      <td>['Fred Astaire']</td>\n      <td>[[1013.85900236  233.88204221 1201.5861278   4...</td>\n      <td>1.158766</td>\n      <td>NaN</td>\n      <td>['A Martinez']</td>\n      <td>6488</td>\n      <td>69</td>\n      <td>187.727125</td>\n    </tr>\n    <tr>\n      <th>4</th>\n      <td>6</td>\n      <td>6</td>\n      <td>1924</td>\n      <td>2004</td>\n      <td>02/nm0000002_rm1346607872_1924-9-16_2004.jpg</td>\n      <td>0.0</td>\n      <td>['Lauren Bacall']</td>\n      <td>[[ 78.23569407  52.33512938 194.25423516 168.3...</td>\n      <td>3.479189</td>\n      <td>NaN</td>\n      <td>['A.J. Buckley']</td>\n      <td>11516</td>\n      <td>80</td>\n      <td>116.018541</td>\n    </tr>\n    <tr>\n      <th>...</th>\n      <td>...</td>\n      <td>...</td>\n      <td>...</td>\n      <td>...</td>\n      <td>...</td>\n      <td>...</td>\n      <td>...</td>\n      <td>...</td>\n      <td>...</td>\n      <td>...</td>\n      <td>...</td>\n      <td>...</td>\n      <td>...</td>\n      <td>...</td>\n    </tr>\n    <tr>\n      <th>121959</th>\n      <td>460705</td>\n      <td>460705</td>\n      <td>1989</td>\n      <td>2011</td>\n      <td>08/nm3994408_rm540716544_1989-12-29_2011.jpg</td>\n      <td>0.0</td>\n      <td>['Jane Levy']</td>\n      <td>[[249.2290693   88.51449505 379.87081187 219.1...</td>\n      <td>2.663068</td>\n      <td>NaN</td>\n      <td>NaN</td>\n      <td>8410</td>\n      <td>22</td>\n      <td>130.641743</td>\n    </tr>\n    <tr>\n      <th>121960</th>\n      <td>460707</td>\n      <td>460707</td>\n      <td>1989</td>\n      <td>2011</td>\n      <td>08/nm3994408_rm543141888_1989-12-29_2011.jpg</td>\n      <td>0.0</td>\n      <td>['Jane Levy']</td>\n      <td>[[321.23 146.51 451.36 276.64]]</td>\n      <td>2.222078</td>\n      <td>0.776222</td>\n      <td>NaN</td>\n      <td>8410</td>\n      <td>22</td>\n      <td>130.130000</td>\n    </tr>\n    <tr>\n      <th>121961</th>\n      <td>460712</td>\n      <td>460712</td>\n      <td>1989</td>\n      <td>2012</td>\n      <td>08/nm3994408_rm663989760_1989-12-29_2012.jpg</td>\n      <td>0.0</td>\n      <td>['Jane Levy']</td>\n      <td>[[1094.72200993  151.04900135 1316.17551196  3...</td>\n      <td>3.594701</td>\n      <td>2.786236</td>\n      <td>NaN</td>\n      <td>8410</td>\n      <td>23</td>\n      <td>221.453502</td>\n    </tr>\n    <tr>\n      <th>121962</th>\n      <td>460716</td>\n      <td>460716</td>\n      <td>1989</td>\n      <td>2011</td>\n      <td>08/nm3994408_rm744468480_1989-12-29_2011.jpg</td>\n      <td>0.0</td>\n      <td>['Jane Levy']</td>\n      <td>[[300.756  96.276 422.592 218.112]]</td>\n      <td>2.370091</td>\n      <td>NaN</td>\n      <td>NaN</td>\n      <td>8410</td>\n      <td>22</td>\n      <td>121.836000</td>\n    </tr>\n    <tr>\n      <th>121963</th>\n      <td>460721</td>\n      <td>460721</td>\n      <td>1989</td>\n      <td>2011</td>\n      <td>08/nm3994408_rm943369728_1989-12-29_2011.jpg</td>\n      <td>0.0</td>\n      <td>['Jane Levy']</td>\n      <td>[[144.75225472 126.76472288 305.78804127 287.8...</td>\n      <td>4.450725</td>\n      <td>NaN</td>\n      <td>NaN</td>\n      <td>8410</td>\n      <td>22</td>\n      <td>161.035787</td>\n    </tr>\n  </tbody>\n</table>\n<p>121964 rows × 14 columns</p>\n</div>"
     },
     "execution_count": 5,
     "metadata": {},
     "output_type": "execute_result"
    }
   ],
   "source": [
    "df = pd.read_csv('../cured_imdb.csv', low_memory=False)\n",
    "df"
   ],
   "metadata": {
    "collapsed": false,
    "pycharm": {
     "name": "#%%\n"
    }
   }
  },
  {
   "cell_type": "code",
   "execution_count": 8,
   "outputs": [
    {
     "data": {
      "text/plain": "      index  Unnamed: 0.1  Unnamed: 0   dob  photo_taken  \\\n0     85957        324333      324333  1976         2004   \n1     34693        129200      129200  1943         1967   \n2     14773         55621       55621  1946         2008   \n3     72739        274882      274882  1970         2013   \n4       374          1567        1567  1914         1964   \n...     ...           ...         ...   ...          ...   \n4995  98528        371095      371095  1985         2014   \n4996  23508         88758       88758  1960         2010   \n4997  95836        361346      361346  1969         2014   \n4998  53883        202804      202804  1981         2008   \n4999  75461        285589      285589  1973         2007   \n\n                                         full_path  gender  \\\n0     81/nm0842081_rm1263250688_1976-9-19_2004.jpg     0.0   \n1     90/nm0001790_rm3112153088_1943-1-24_1967.jpg     0.0   \n2     18/nm0000418_rm2321193472_1946-7-22_2008.jpg     1.0   \n3       72/nm0134072_rm362127616_1970-5-3_2013.jpg     1.0   \n4     86/nm0000086_rm3956864768_1914-7-31_1964.jpg     1.0   \n...                                            ...     ...   \n4995  36/nm0461136_rm2519647488_1985-3-26_2014.jpg     0.0   \n4996  33/nm0000933_rm1476231936_1960-4-23_2010.jpg     0.0   \n4997  09/nm0164809_rm4026581504_1969-7-17_2014.jpg     1.0   \n4998  60/nm1602660_rm3209531904_1981-8-20_2008.jpg     1.0   \n4999   88/nm1433588_rm497989120_1973-3-24_2007.jpg     1.0   \n\n                        name  \\\n0         ['Alison Sweeney']   \n1            ['Sharon Tate']   \n2           ['Danny Glover']   \n3        ['Bobby Cannavale']   \n4         ['Louis de Funès']   \n...                      ...   \n4995     ['Keira Knightley']   \n4996  ['Valerie Bertinelli']   \n4997        ['Jason Clarke']   \n4998          ['Ben Barnes']   \n4999         ['Jim Parsons']   \n\n                                          face_location  face_score  \\\n0     [[1687.80189538  353.2467282  1843.79332307  5...    5.070649   \n1     [[612.32731869 386.27942288 813.77242491 587.7...    1.507596   \n2     [[152.07118422  76.31459211 265.14807238 189.3...    2.833349   \n3                   [[854.016 231.424 999.424 376.832]]    0.881781   \n4     [[233.2333923  296.56977201 422.24253145 485.5...    3.862970   \n...                                                 ...         ...   \n4995  [[546.66689184 627.35117212 726.15852246 806.8...    0.993218   \n4996  [[ 81.19543772  81.19543772 225.61122561 225.6...    6.004624   \n4997  [[1112.44415705  209.07101233 1279.77862168  3...    1.935723   \n4998  [[257.69071193  41.19158609 378.87347021 162.3...    3.656366   \n4999  [[1442.46353365  104.8902524  1594.79891225  2...    2.091644   \n\n      second_face_score         celeb_names  celeb_id  age  max_image_dim  \n0              3.312925                 NaN       650   28     155.991428  \n1              1.277056                 NaN     17626   24     201.445106  \n2                   NaN                 NaN      4429   62     113.076888  \n3              0.750205                 NaN      2260   43     145.408000  \n4              3.675853  ['Ashlyn Sanchez']     12138   50     189.009139  \n...                 ...                 ...       ...  ...            ...  \n4995                NaN                 NaN     10747   29     179.491631  \n4996                NaN                 NaN     19526   50     144.415788  \n4997                NaN                 NaN      8499   45     167.334465  \n4998           0.940015                 NaN      1834   27     121.182758  \n4999           1.873279                 NaN      9186   34     152.335379  \n\n[5000 rows x 15 columns]",
      "text/html": "<div>\n<style scoped>\n    .dataframe tbody tr th:only-of-type {\n        vertical-align: middle;\n    }\n\n    .dataframe tbody tr th {\n        vertical-align: top;\n    }\n\n    .dataframe thead th {\n        text-align: right;\n    }\n</style>\n<table border=\"1\" class=\"dataframe\">\n  <thead>\n    <tr style=\"text-align: right;\">\n      <th></th>\n      <th>index</th>\n      <th>Unnamed: 0.1</th>\n      <th>Unnamed: 0</th>\n      <th>dob</th>\n      <th>photo_taken</th>\n      <th>full_path</th>\n      <th>gender</th>\n      <th>name</th>\n      <th>face_location</th>\n      <th>face_score</th>\n      <th>second_face_score</th>\n      <th>celeb_names</th>\n      <th>celeb_id</th>\n      <th>age</th>\n      <th>max_image_dim</th>\n    </tr>\n  </thead>\n  <tbody>\n    <tr>\n      <th>0</th>\n      <td>85957</td>\n      <td>324333</td>\n      <td>324333</td>\n      <td>1976</td>\n      <td>2004</td>\n      <td>81/nm0842081_rm1263250688_1976-9-19_2004.jpg</td>\n      <td>0.0</td>\n      <td>['Alison Sweeney']</td>\n      <td>[[1687.80189538  353.2467282  1843.79332307  5...</td>\n      <td>5.070649</td>\n      <td>3.312925</td>\n      <td>NaN</td>\n      <td>650</td>\n      <td>28</td>\n      <td>155.991428</td>\n    </tr>\n    <tr>\n      <th>1</th>\n      <td>34693</td>\n      <td>129200</td>\n      <td>129200</td>\n      <td>1943</td>\n      <td>1967</td>\n      <td>90/nm0001790_rm3112153088_1943-1-24_1967.jpg</td>\n      <td>0.0</td>\n      <td>['Sharon Tate']</td>\n      <td>[[612.32731869 386.27942288 813.77242491 587.7...</td>\n      <td>1.507596</td>\n      <td>1.277056</td>\n      <td>NaN</td>\n      <td>17626</td>\n      <td>24</td>\n      <td>201.445106</td>\n    </tr>\n    <tr>\n      <th>2</th>\n      <td>14773</td>\n      <td>55621</td>\n      <td>55621</td>\n      <td>1946</td>\n      <td>2008</td>\n      <td>18/nm0000418_rm2321193472_1946-7-22_2008.jpg</td>\n      <td>1.0</td>\n      <td>['Danny Glover']</td>\n      <td>[[152.07118422  76.31459211 265.14807238 189.3...</td>\n      <td>2.833349</td>\n      <td>NaN</td>\n      <td>NaN</td>\n      <td>4429</td>\n      <td>62</td>\n      <td>113.076888</td>\n    </tr>\n    <tr>\n      <th>3</th>\n      <td>72739</td>\n      <td>274882</td>\n      <td>274882</td>\n      <td>1970</td>\n      <td>2013</td>\n      <td>72/nm0134072_rm362127616_1970-5-3_2013.jpg</td>\n      <td>1.0</td>\n      <td>['Bobby Cannavale']</td>\n      <td>[[854.016 231.424 999.424 376.832]]</td>\n      <td>0.881781</td>\n      <td>0.750205</td>\n      <td>NaN</td>\n      <td>2260</td>\n      <td>43</td>\n      <td>145.408000</td>\n    </tr>\n    <tr>\n      <th>4</th>\n      <td>374</td>\n      <td>1567</td>\n      <td>1567</td>\n      <td>1914</td>\n      <td>1964</td>\n      <td>86/nm0000086_rm3956864768_1914-7-31_1964.jpg</td>\n      <td>1.0</td>\n      <td>['Louis de Funès']</td>\n      <td>[[233.2333923  296.56977201 422.24253145 485.5...</td>\n      <td>3.862970</td>\n      <td>3.675853</td>\n      <td>['Ashlyn Sanchez']</td>\n      <td>12138</td>\n      <td>50</td>\n      <td>189.009139</td>\n    </tr>\n    <tr>\n      <th>...</th>\n      <td>...</td>\n      <td>...</td>\n      <td>...</td>\n      <td>...</td>\n      <td>...</td>\n      <td>...</td>\n      <td>...</td>\n      <td>...</td>\n      <td>...</td>\n      <td>...</td>\n      <td>...</td>\n      <td>...</td>\n      <td>...</td>\n      <td>...</td>\n      <td>...</td>\n    </tr>\n    <tr>\n      <th>4995</th>\n      <td>98528</td>\n      <td>371095</td>\n      <td>371095</td>\n      <td>1985</td>\n      <td>2014</td>\n      <td>36/nm0461136_rm2519647488_1985-3-26_2014.jpg</td>\n      <td>0.0</td>\n      <td>['Keira Knightley']</td>\n      <td>[[546.66689184 627.35117212 726.15852246 806.8...</td>\n      <td>0.993218</td>\n      <td>NaN</td>\n      <td>NaN</td>\n      <td>10747</td>\n      <td>29</td>\n      <td>179.491631</td>\n    </tr>\n    <tr>\n      <th>4996</th>\n      <td>23508</td>\n      <td>88758</td>\n      <td>88758</td>\n      <td>1960</td>\n      <td>2010</td>\n      <td>33/nm0000933_rm1476231936_1960-4-23_2010.jpg</td>\n      <td>0.0</td>\n      <td>['Valerie Bertinelli']</td>\n      <td>[[ 81.19543772  81.19543772 225.61122561 225.6...</td>\n      <td>6.004624</td>\n      <td>NaN</td>\n      <td>NaN</td>\n      <td>19526</td>\n      <td>50</td>\n      <td>144.415788</td>\n    </tr>\n    <tr>\n      <th>4997</th>\n      <td>95836</td>\n      <td>361346</td>\n      <td>361346</td>\n      <td>1969</td>\n      <td>2014</td>\n      <td>09/nm0164809_rm4026581504_1969-7-17_2014.jpg</td>\n      <td>1.0</td>\n      <td>['Jason Clarke']</td>\n      <td>[[1112.44415705  209.07101233 1279.77862168  3...</td>\n      <td>1.935723</td>\n      <td>NaN</td>\n      <td>NaN</td>\n      <td>8499</td>\n      <td>45</td>\n      <td>167.334465</td>\n    </tr>\n    <tr>\n      <th>4998</th>\n      <td>53883</td>\n      <td>202804</td>\n      <td>202804</td>\n      <td>1981</td>\n      <td>2008</td>\n      <td>60/nm1602660_rm3209531904_1981-8-20_2008.jpg</td>\n      <td>1.0</td>\n      <td>['Ben Barnes']</td>\n      <td>[[257.69071193  41.19158609 378.87347021 162.3...</td>\n      <td>3.656366</td>\n      <td>0.940015</td>\n      <td>NaN</td>\n      <td>1834</td>\n      <td>27</td>\n      <td>121.182758</td>\n    </tr>\n    <tr>\n      <th>4999</th>\n      <td>75461</td>\n      <td>285589</td>\n      <td>285589</td>\n      <td>1973</td>\n      <td>2007</td>\n      <td>88/nm1433588_rm497989120_1973-3-24_2007.jpg</td>\n      <td>1.0</td>\n      <td>['Jim Parsons']</td>\n      <td>[[1442.46353365  104.8902524  1594.79891225  2...</td>\n      <td>2.091644</td>\n      <td>1.873279</td>\n      <td>NaN</td>\n      <td>9186</td>\n      <td>34</td>\n      <td>152.335379</td>\n    </tr>\n  </tbody>\n</table>\n<p>5000 rows × 15 columns</p>\n</div>"
     },
     "execution_count": 8,
     "metadata": {},
     "output_type": "execute_result"
    }
   ],
   "source": [
    "df.sample(n=5000).reset_index()"
   ],
   "metadata": {
    "collapsed": false,
    "pycharm": {
     "name": "#%%\n"
    }
   }
  },
  {
   "cell_type": "code",
   "execution_count": null,
   "outputs": [],
   "source": [],
   "metadata": {
    "collapsed": false,
    "pycharm": {
     "name": "#%%\n"
    }
   }
  }
 ]
}