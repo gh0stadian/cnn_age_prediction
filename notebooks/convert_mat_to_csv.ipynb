{
 "nbformat": 4,
 "nbformat_minor": 0,
 "metadata": {
  "colab": {
   "name": "Untitled3.ipynb",
   "provenance": []
  },
  "kernelspec": {
   "name": "python3",
   "display_name": "Python 3"
  },
  "language_info": {
   "name": "python"
  }
 },
 "cells": [
  {
   "cell_type": "code",
   "execution_count": 4,
   "metadata": {
    "id": "If48lygbKcIP"
   },
   "outputs": [],
   "source": [
    "from scipy.io import loadmat\n",
    "import pandas as pd\n",
    "import numpy as np"
   ]
  },
  {
   "cell_type": "code",
   "source": [
    "data = loadmat(\"imdb.mat\")"
   ],
   "metadata": {
    "id": "wvfUSKTWKpPP",
    "colab": {
     "base_uri": "https://localhost:8080/",
     "height": 453
    },
    "outputId": "e35e7de0-e97e-4a38-9452-4022e9b6cea2"
   },
   "execution_count": 3,
   "outputs": []
  },
  {
   "cell_type": "code",
   "execution_count": 6,
   "outputs": [
    {
     "data": {
      "text/plain": "         dob  photo_taken                                       full_path  \\\n0       1899         1968   [01/nm0000001_rm124825600_1899-5-10_1968.jpg]   \n1       1899         1970  [01/nm0000001_rm3343756032_1899-5-10_1970.jpg]   \n2       1899         1968   [01/nm0000001_rm577153792_1899-5-10_1968.jpg]   \n3       1899         1968   [01/nm0000001_rm946909184_1899-5-10_1968.jpg]   \n4       1899         1968   [01/nm0000001_rm980463616_1899-5-10_1968.jpg]   \n...      ...          ...                                             ...   \n460718  1989         2011  [08/nm3994408_rm761245696_1989-12-29_2011.jpg]   \n460719  1989         2011  [08/nm3994408_rm784182528_1989-12-29_2011.jpg]   \n460720  1989         2011  [08/nm3994408_rm926592512_1989-12-29_2011.jpg]   \n460721  1989         2011  [08/nm3994408_rm943369728_1989-12-29_2011.jpg]   \n460722  1989         2011  [08/nm3994408_rm976924160_1989-12-29_2011.jpg]   \n\n        gender            name  \\\n0          1.0  [Fred Astaire]   \n1          1.0  [Fred Astaire]   \n2          1.0  [Fred Astaire]   \n3          1.0  [Fred Astaire]   \n4          1.0  [Fred Astaire]   \n...        ...             ...   \n460718     0.0     [Jane Levy]   \n460719     0.0     [Jane Levy]   \n460720     0.0     [Jane Levy]   \n460721     0.0     [Jane Levy]   \n460722     0.0     [Jane Levy]   \n\n                                            face_location  face_score  \\\n0       [[1072.926, 161.838, 1214.7839999999999, 303.6...    1.459693   \n1                   [[477.184, 100.352, 622.592, 245.76]]    2.543198   \n2       [[114.96964308962852, 114.96964308962852, 451....    3.455579   \n3       [[622.8855056426588, 424.21750383700805, 844.3...    1.872117   \n4       [[1013.8590023603723, 233.8820422075853, 1201....    1.158766   \n...                                                   ...         ...   \n460718  [[453.8981431333457, 77.96623712908011, 539.79...    3.845884   \n460719                                 [[1, 1, 426, 640]]        -inf   \n460720                                 [[1, 1, 453, 640]]        -inf   \n460721  [[144.75225471724875, 126.76472287759263, 305....    4.450725   \n460722               [[457.524, 41.748, 518.016, 102.24]]    2.133503   \n\n        second_face_score              celeb_names  celeb_id  age  \n0                1.118973  ['Lee' George Quinones]      6488   69  \n1                1.852008    ['Weird Al' Yankovic]      6488   71  \n2                2.985660               [2 Chainz]      6488   69  \n3                     NaN                [50 Cent]      6488   69  \n4                     NaN             [A Martinez]      6488   69  \n...                   ...                      ...       ...  ...  \n460718                NaN                      NaN      8410   22  \n460719                NaN                      NaN      8410   22  \n460720                NaN                      NaN      8410   22  \n460721                NaN                      NaN      8410   22  \n460722                NaN                      NaN      8410   22  \n\n[460723 rows x 11 columns]",
      "text/html": "<div>\n<style scoped>\n    .dataframe tbody tr th:only-of-type {\n        vertical-align: middle;\n    }\n\n    .dataframe tbody tr th {\n        vertical-align: top;\n    }\n\n    .dataframe thead th {\n        text-align: right;\n    }\n</style>\n<table border=\"1\" class=\"dataframe\">\n  <thead>\n    <tr style=\"text-align: right;\">\n      <th></th>\n      <th>dob</th>\n      <th>photo_taken</th>\n      <th>full_path</th>\n      <th>gender</th>\n      <th>name</th>\n      <th>face_location</th>\n      <th>face_score</th>\n      <th>second_face_score</th>\n      <th>celeb_names</th>\n      <th>celeb_id</th>\n      <th>age</th>\n    </tr>\n  </thead>\n  <tbody>\n    <tr>\n      <th>0</th>\n      <td>1899</td>\n      <td>1968</td>\n      <td>[01/nm0000001_rm124825600_1899-5-10_1968.jpg]</td>\n      <td>1.0</td>\n      <td>[Fred Astaire]</td>\n      <td>[[1072.926, 161.838, 1214.7839999999999, 303.6...</td>\n      <td>1.459693</td>\n      <td>1.118973</td>\n      <td>['Lee' George Quinones]</td>\n      <td>6488</td>\n      <td>69</td>\n    </tr>\n    <tr>\n      <th>1</th>\n      <td>1899</td>\n      <td>1970</td>\n      <td>[01/nm0000001_rm3343756032_1899-5-10_1970.jpg]</td>\n      <td>1.0</td>\n      <td>[Fred Astaire]</td>\n      <td>[[477.184, 100.352, 622.592, 245.76]]</td>\n      <td>2.543198</td>\n      <td>1.852008</td>\n      <td>['Weird Al' Yankovic]</td>\n      <td>6488</td>\n      <td>71</td>\n    </tr>\n    <tr>\n      <th>2</th>\n      <td>1899</td>\n      <td>1968</td>\n      <td>[01/nm0000001_rm577153792_1899-5-10_1968.jpg]</td>\n      <td>1.0</td>\n      <td>[Fred Astaire]</td>\n      <td>[[114.96964308962852, 114.96964308962852, 451....</td>\n      <td>3.455579</td>\n      <td>2.985660</td>\n      <td>[2 Chainz]</td>\n      <td>6488</td>\n      <td>69</td>\n    </tr>\n    <tr>\n      <th>3</th>\n      <td>1899</td>\n      <td>1968</td>\n      <td>[01/nm0000001_rm946909184_1899-5-10_1968.jpg]</td>\n      <td>1.0</td>\n      <td>[Fred Astaire]</td>\n      <td>[[622.8855056426588, 424.21750383700805, 844.3...</td>\n      <td>1.872117</td>\n      <td>NaN</td>\n      <td>[50 Cent]</td>\n      <td>6488</td>\n      <td>69</td>\n    </tr>\n    <tr>\n      <th>4</th>\n      <td>1899</td>\n      <td>1968</td>\n      <td>[01/nm0000001_rm980463616_1899-5-10_1968.jpg]</td>\n      <td>1.0</td>\n      <td>[Fred Astaire]</td>\n      <td>[[1013.8590023603723, 233.8820422075853, 1201....</td>\n      <td>1.158766</td>\n      <td>NaN</td>\n      <td>[A Martinez]</td>\n      <td>6488</td>\n      <td>69</td>\n    </tr>\n    <tr>\n      <th>...</th>\n      <td>...</td>\n      <td>...</td>\n      <td>...</td>\n      <td>...</td>\n      <td>...</td>\n      <td>...</td>\n      <td>...</td>\n      <td>...</td>\n      <td>...</td>\n      <td>...</td>\n      <td>...</td>\n    </tr>\n    <tr>\n      <th>460718</th>\n      <td>1989</td>\n      <td>2011</td>\n      <td>[08/nm3994408_rm761245696_1989-12-29_2011.jpg]</td>\n      <td>0.0</td>\n      <td>[Jane Levy]</td>\n      <td>[[453.8981431333457, 77.96623712908011, 539.79...</td>\n      <td>3.845884</td>\n      <td>NaN</td>\n      <td>NaN</td>\n      <td>8410</td>\n      <td>22</td>\n    </tr>\n    <tr>\n      <th>460719</th>\n      <td>1989</td>\n      <td>2011</td>\n      <td>[08/nm3994408_rm784182528_1989-12-29_2011.jpg]</td>\n      <td>0.0</td>\n      <td>[Jane Levy]</td>\n      <td>[[1, 1, 426, 640]]</td>\n      <td>-inf</td>\n      <td>NaN</td>\n      <td>NaN</td>\n      <td>8410</td>\n      <td>22</td>\n    </tr>\n    <tr>\n      <th>460720</th>\n      <td>1989</td>\n      <td>2011</td>\n      <td>[08/nm3994408_rm926592512_1989-12-29_2011.jpg]</td>\n      <td>0.0</td>\n      <td>[Jane Levy]</td>\n      <td>[[1, 1, 453, 640]]</td>\n      <td>-inf</td>\n      <td>NaN</td>\n      <td>NaN</td>\n      <td>8410</td>\n      <td>22</td>\n    </tr>\n    <tr>\n      <th>460721</th>\n      <td>1989</td>\n      <td>2011</td>\n      <td>[08/nm3994408_rm943369728_1989-12-29_2011.jpg]</td>\n      <td>0.0</td>\n      <td>[Jane Levy]</td>\n      <td>[[144.75225471724875, 126.76472287759263, 305....</td>\n      <td>4.450725</td>\n      <td>NaN</td>\n      <td>NaN</td>\n      <td>8410</td>\n      <td>22</td>\n    </tr>\n    <tr>\n      <th>460722</th>\n      <td>1989</td>\n      <td>2011</td>\n      <td>[08/nm3994408_rm976924160_1989-12-29_2011.jpg]</td>\n      <td>0.0</td>\n      <td>[Jane Levy]</td>\n      <td>[[457.524, 41.748, 518.016, 102.24]]</td>\n      <td>2.133503</td>\n      <td>NaN</td>\n      <td>NaN</td>\n      <td>8410</td>\n      <td>22</td>\n    </tr>\n  </tbody>\n</table>\n<p>460723 rows × 11 columns</p>\n</div>"
     },
     "execution_count": 6,
     "metadata": {},
     "output_type": "execute_result"
    }
   ],
   "source": [
    "import datetime\n",
    "\n",
    "mdata = data['imdb']  # variable in mat file\n",
    "mdtype = mdata.dtype\n",
    "ndata = {n: mdata[n][0, 0] for n in mdtype.names}\n",
    "df = pd.DataFrame()\n",
    "for key in ndata:\n",
    "    df[key] = pd.DataFrame(ndata[key].T)\n",
    "df['dob'] = df['dob'].apply(lambda x: datetime.date.fromordinal(np.max([x - 366, 1])).year)\n",
    "df['age'] = df['photo_taken'] - df['dob']\n",
    "df"
   ],
   "metadata": {
    "collapsed": false,
    "pycharm": {
     "name": "#%%\n"
    }
   }
  },
  {
   "cell_type": "code",
   "execution_count": null,
   "outputs": [],
   "source": [
    "df.to_csv('imdb.csv')"
   ],
   "metadata": {
    "collapsed": false,
    "pycharm": {
     "name": "#%%\n"
    }
   }
  },
  {
   "cell_type": "code",
   "execution_count": 7,
   "outputs": [
    {
     "data": {
      "text/plain": "31      17428\n32      15860\n36      15605\n29      15309\n34      15224\n        ...  \n1998        1\n135         1\n131         1\n282         1\n110         1\nName: age, Length: 162, dtype: int64"
     },
     "execution_count": 7,
     "metadata": {},
     "output_type": "execute_result"
    }
   ],
   "source": [
    "df['age'].value_counts()"
   ],
   "metadata": {
    "collapsed": false,
    "pycharm": {
     "name": "#%%\n"
    }
   }
  },
  {
   "cell_type": "code",
   "execution_count": 14,
   "outputs": [
    {
     "data": {
      "text/plain": "\"['01/nm0000001_rm124825600_1899-5-10_1968.jpg']\""
     },
     "execution_count": 14,
     "metadata": {},
     "output_type": "execute_result"
    }
   ],
   "source": [
    "df = pd.read_csv('imdb.csv', low_memory=False)\n",
    "df['full_path'][0]"
   ],
   "metadata": {
    "collapsed": false,
    "pycharm": {
     "name": "#%%\n"
    }
   }
  },
  {
   "cell_type": "code",
   "execution_count": null,
   "outputs": [],
   "source": [
    "df = df[(df['age'] > 0) & (df['age'] < 100)]"
   ],
   "metadata": {
    "collapsed": false,
    "pycharm": {
     "name": "#%%\n"
    }
   }
  }
 ]
}