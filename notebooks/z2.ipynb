{
 "cells": [
  {
   "cell_type": "code",
   "execution_count": 50,
   "metadata": {
    "collapsed": true
   },
   "outputs": [],
   "source": [
    "import pandas as pd"
   ]
  },
  {
   "cell_type": "code",
   "execution_count": 51,
   "outputs": [
    {
     "data": {
      "text/plain": "       Unnamed: 0   dob  photo_taken                            full_path  \\\n0               0  1981         2009  ['17/10000217_1981-05-05_2009.jpg']   \n1               1  1925         1964  ['48/10000548_1925-04-04_1964.jpg']   \n2               2  1948         2008    ['12/100012_1948-07-03_2008.jpg']   \n3               3  1930         1961  ['65/10001965_1930-05-23_1961.jpg']   \n4               4  1971         2012  ['16/10002116_1971-05-31_2012.jpg']   \n...           ...   ...          ...                                  ...   \n62323       62323  1937         1963   ['49/9996949_1937-04-17_1963.jpg']   \n62324       62324  1947         1970   ['32/9997032_1947-07-30_1970.jpg']   \n62325       62325  1972         2013   ['09/9998109_1972-12-27_2013.jpg']   \n62326       62326  1981         2011   ['00/9999400_1981-12-13_2011.jpg']   \n62327       62327  1954         2008    ['80/999980_1954-06-11_2008.jpg']   \n\n       gender                      name  \\\n0         1.0       ['Sami Jauhojärvi']   \n1         1.0        ['Dettmar Cramer']   \n2         1.0           ['Marc Okrand']   \n3         1.0  ['Aleksandar Matanović']   \n4         0.0          ['Diana Damrau']   \n...       ...                       ...   \n62323     1.0             ['Guus Haak']   \n62324     1.0         ['Nico Rijnders']   \n62325     1.0     ['Michael Wiesinger']   \n62326     1.0        ['Johann Grugger']   \n62327     0.0    ['Greta Van Susteren']   \n\n                                           face_location  face_score  \\\n0      [[111.29109473 111.29109473 252.66993082 252.6...    4.300962   \n1      [[252.4833023  126.68165115 354.53192596 228.7...    2.645639   \n2                        [[113.52 169.84 366.08 422.4 ]]    4.329329   \n3                                    [[  1   1 634 440]]        -inf   \n4      [[171.61031405  75.5745124  266.76611571 170.7...    3.408442   \n...                                                  ...         ...   \n62323  [[128.92773554 128.92773554 320.11933885 320.1...    4.029268   \n62324                                [[  1   1 285 440]]        -inf   \n62325  [[169.88839786  74.31669472 235.2534231  139.6...    3.494303   \n62326                                        [[1 1 1 1]]        -inf   \n62327  [[ 92.72633235  62.0435549  230.12083087 199.4...    5.486917   \n\n       second_face_score  age  \n0                    NaN   28  \n1               1.949248   39  \n2                    NaN   60  \n3                    NaN   31  \n4                    NaN   41  \n...                  ...  ...  \n62323                NaN   26  \n62324                NaN   23  \n62325                NaN   41  \n62326                NaN   30  \n62327                NaN   54  \n\n[62328 rows x 10 columns]",
      "text/html": "<div>\n<style scoped>\n    .dataframe tbody tr th:only-of-type {\n        vertical-align: middle;\n    }\n\n    .dataframe tbody tr th {\n        vertical-align: top;\n    }\n\n    .dataframe thead th {\n        text-align: right;\n    }\n</style>\n<table border=\"1\" class=\"dataframe\">\n  <thead>\n    <tr style=\"text-align: right;\">\n      <th></th>\n      <th>Unnamed: 0</th>\n      <th>dob</th>\n      <th>photo_taken</th>\n      <th>full_path</th>\n      <th>gender</th>\n      <th>name</th>\n      <th>face_location</th>\n      <th>face_score</th>\n      <th>second_face_score</th>\n      <th>age</th>\n    </tr>\n  </thead>\n  <tbody>\n    <tr>\n      <th>0</th>\n      <td>0</td>\n      <td>1981</td>\n      <td>2009</td>\n      <td>['17/10000217_1981-05-05_2009.jpg']</td>\n      <td>1.0</td>\n      <td>['Sami Jauhojärvi']</td>\n      <td>[[111.29109473 111.29109473 252.66993082 252.6...</td>\n      <td>4.300962</td>\n      <td>NaN</td>\n      <td>28</td>\n    </tr>\n    <tr>\n      <th>1</th>\n      <td>1</td>\n      <td>1925</td>\n      <td>1964</td>\n      <td>['48/10000548_1925-04-04_1964.jpg']</td>\n      <td>1.0</td>\n      <td>['Dettmar Cramer']</td>\n      <td>[[252.4833023  126.68165115 354.53192596 228.7...</td>\n      <td>2.645639</td>\n      <td>1.949248</td>\n      <td>39</td>\n    </tr>\n    <tr>\n      <th>2</th>\n      <td>2</td>\n      <td>1948</td>\n      <td>2008</td>\n      <td>['12/100012_1948-07-03_2008.jpg']</td>\n      <td>1.0</td>\n      <td>['Marc Okrand']</td>\n      <td>[[113.52 169.84 366.08 422.4 ]]</td>\n      <td>4.329329</td>\n      <td>NaN</td>\n      <td>60</td>\n    </tr>\n    <tr>\n      <th>3</th>\n      <td>3</td>\n      <td>1930</td>\n      <td>1961</td>\n      <td>['65/10001965_1930-05-23_1961.jpg']</td>\n      <td>1.0</td>\n      <td>['Aleksandar Matanović']</td>\n      <td>[[  1   1 634 440]]</td>\n      <td>-inf</td>\n      <td>NaN</td>\n      <td>31</td>\n    </tr>\n    <tr>\n      <th>4</th>\n      <td>4</td>\n      <td>1971</td>\n      <td>2012</td>\n      <td>['16/10002116_1971-05-31_2012.jpg']</td>\n      <td>0.0</td>\n      <td>['Diana Damrau']</td>\n      <td>[[171.61031405  75.5745124  266.76611571 170.7...</td>\n      <td>3.408442</td>\n      <td>NaN</td>\n      <td>41</td>\n    </tr>\n    <tr>\n      <th>...</th>\n      <td>...</td>\n      <td>...</td>\n      <td>...</td>\n      <td>...</td>\n      <td>...</td>\n      <td>...</td>\n      <td>...</td>\n      <td>...</td>\n      <td>...</td>\n      <td>...</td>\n    </tr>\n    <tr>\n      <th>62323</th>\n      <td>62323</td>\n      <td>1937</td>\n      <td>1963</td>\n      <td>['49/9996949_1937-04-17_1963.jpg']</td>\n      <td>1.0</td>\n      <td>['Guus Haak']</td>\n      <td>[[128.92773554 128.92773554 320.11933885 320.1...</td>\n      <td>4.029268</td>\n      <td>NaN</td>\n      <td>26</td>\n    </tr>\n    <tr>\n      <th>62324</th>\n      <td>62324</td>\n      <td>1947</td>\n      <td>1970</td>\n      <td>['32/9997032_1947-07-30_1970.jpg']</td>\n      <td>1.0</td>\n      <td>['Nico Rijnders']</td>\n      <td>[[  1   1 285 440]]</td>\n      <td>-inf</td>\n      <td>NaN</td>\n      <td>23</td>\n    </tr>\n    <tr>\n      <th>62325</th>\n      <td>62325</td>\n      <td>1972</td>\n      <td>2013</td>\n      <td>['09/9998109_1972-12-27_2013.jpg']</td>\n      <td>1.0</td>\n      <td>['Michael Wiesinger']</td>\n      <td>[[169.88839786  74.31669472 235.2534231  139.6...</td>\n      <td>3.494303</td>\n      <td>NaN</td>\n      <td>41</td>\n    </tr>\n    <tr>\n      <th>62326</th>\n      <td>62326</td>\n      <td>1981</td>\n      <td>2011</td>\n      <td>['00/9999400_1981-12-13_2011.jpg']</td>\n      <td>1.0</td>\n      <td>['Johann Grugger']</td>\n      <td>[[1 1 1 1]]</td>\n      <td>-inf</td>\n      <td>NaN</td>\n      <td>30</td>\n    </tr>\n    <tr>\n      <th>62327</th>\n      <td>62327</td>\n      <td>1954</td>\n      <td>2008</td>\n      <td>['80/999980_1954-06-11_2008.jpg']</td>\n      <td>0.0</td>\n      <td>['Greta Van Susteren']</td>\n      <td>[[ 92.72633235  62.0435549  230.12083087 199.4...</td>\n      <td>5.486917</td>\n      <td>NaN</td>\n      <td>54</td>\n    </tr>\n  </tbody>\n</table>\n<p>62328 rows × 10 columns</p>\n</div>"
     },
     "execution_count": 51,
     "metadata": {},
     "output_type": "execute_result"
    }
   ],
   "source": [
    "df = pd.read_csv(\"../dataset/wiki_crop/wiki.csv\")\n",
    "df"
   ],
   "metadata": {
    "collapsed": false,
    "pycharm": {
     "name": "#%%\n"
    }
   }
  },
  {
   "cell_type": "code",
   "execution_count": 52,
   "outputs": [],
   "source": [
    "df[\"full_path\"] = df[\"full_path\"].apply(lambda x: x.removeprefix(\"['\").removesuffix(\"']\"))"
   ],
   "metadata": {
    "collapsed": false,
    "pycharm": {
     "name": "#%%\n"
    }
   }
  },
  {
   "cell_type": "code",
   "execution_count": 53,
   "outputs": [
    {
     "data": {
      "text/plain": "       Unnamed: 0   dob  photo_taken                        full_path  gender  \\\n0               0  1981         2009  17/10000217_1981-05-05_2009.jpg     1.0   \n1               1  1925         1964  48/10000548_1925-04-04_1964.jpg     1.0   \n2               2  1948         2008    12/100012_1948-07-03_2008.jpg     1.0   \n3               3  1930         1961  65/10001965_1930-05-23_1961.jpg     1.0   \n4               4  1971         2012  16/10002116_1971-05-31_2012.jpg     0.0   \n...           ...   ...          ...                              ...     ...   \n62323       62323  1937         1963   49/9996949_1937-04-17_1963.jpg     1.0   \n62324       62324  1947         1970   32/9997032_1947-07-30_1970.jpg     1.0   \n62325       62325  1972         2013   09/9998109_1972-12-27_2013.jpg     1.0   \n62326       62326  1981         2011   00/9999400_1981-12-13_2011.jpg     1.0   \n62327       62327  1954         2008    80/999980_1954-06-11_2008.jpg     0.0   \n\n                           name  \\\n0           ['Sami Jauhojärvi']   \n1            ['Dettmar Cramer']   \n2               ['Marc Okrand']   \n3      ['Aleksandar Matanović']   \n4              ['Diana Damrau']   \n...                         ...   \n62323             ['Guus Haak']   \n62324         ['Nico Rijnders']   \n62325     ['Michael Wiesinger']   \n62326        ['Johann Grugger']   \n62327    ['Greta Van Susteren']   \n\n                                           face_location  face_score  \\\n0      [[111.29109473 111.29109473 252.66993082 252.6...    4.300962   \n1      [[252.4833023  126.68165115 354.53192596 228.7...    2.645639   \n2                        [[113.52 169.84 366.08 422.4 ]]    4.329329   \n3                                    [[  1   1 634 440]]        -inf   \n4      [[171.61031405  75.5745124  266.76611571 170.7...    3.408442   \n...                                                  ...         ...   \n62323  [[128.92773554 128.92773554 320.11933885 320.1...    4.029268   \n62324                                [[  1   1 285 440]]        -inf   \n62325  [[169.88839786  74.31669472 235.2534231  139.6...    3.494303   \n62326                                        [[1 1 1 1]]        -inf   \n62327  [[ 92.72633235  62.0435549  230.12083087 199.4...    5.486917   \n\n       second_face_score  age  \n0                    NaN   28  \n1               1.949248   39  \n2                    NaN   60  \n3                    NaN   31  \n4                    NaN   41  \n...                  ...  ...  \n62323                NaN   26  \n62324                NaN   23  \n62325                NaN   41  \n62326                NaN   30  \n62327                NaN   54  \n\n[62328 rows x 10 columns]",
      "text/html": "<div>\n<style scoped>\n    .dataframe tbody tr th:only-of-type {\n        vertical-align: middle;\n    }\n\n    .dataframe tbody tr th {\n        vertical-align: top;\n    }\n\n    .dataframe thead th {\n        text-align: right;\n    }\n</style>\n<table border=\"1\" class=\"dataframe\">\n  <thead>\n    <tr style=\"text-align: right;\">\n      <th></th>\n      <th>Unnamed: 0</th>\n      <th>dob</th>\n      <th>photo_taken</th>\n      <th>full_path</th>\n      <th>gender</th>\n      <th>name</th>\n      <th>face_location</th>\n      <th>face_score</th>\n      <th>second_face_score</th>\n      <th>age</th>\n    </tr>\n  </thead>\n  <tbody>\n    <tr>\n      <th>0</th>\n      <td>0</td>\n      <td>1981</td>\n      <td>2009</td>\n      <td>17/10000217_1981-05-05_2009.jpg</td>\n      <td>1.0</td>\n      <td>['Sami Jauhojärvi']</td>\n      <td>[[111.29109473 111.29109473 252.66993082 252.6...</td>\n      <td>4.300962</td>\n      <td>NaN</td>\n      <td>28</td>\n    </tr>\n    <tr>\n      <th>1</th>\n      <td>1</td>\n      <td>1925</td>\n      <td>1964</td>\n      <td>48/10000548_1925-04-04_1964.jpg</td>\n      <td>1.0</td>\n      <td>['Dettmar Cramer']</td>\n      <td>[[252.4833023  126.68165115 354.53192596 228.7...</td>\n      <td>2.645639</td>\n      <td>1.949248</td>\n      <td>39</td>\n    </tr>\n    <tr>\n      <th>2</th>\n      <td>2</td>\n      <td>1948</td>\n      <td>2008</td>\n      <td>12/100012_1948-07-03_2008.jpg</td>\n      <td>1.0</td>\n      <td>['Marc Okrand']</td>\n      <td>[[113.52 169.84 366.08 422.4 ]]</td>\n      <td>4.329329</td>\n      <td>NaN</td>\n      <td>60</td>\n    </tr>\n    <tr>\n      <th>3</th>\n      <td>3</td>\n      <td>1930</td>\n      <td>1961</td>\n      <td>65/10001965_1930-05-23_1961.jpg</td>\n      <td>1.0</td>\n      <td>['Aleksandar Matanović']</td>\n      <td>[[  1   1 634 440]]</td>\n      <td>-inf</td>\n      <td>NaN</td>\n      <td>31</td>\n    </tr>\n    <tr>\n      <th>4</th>\n      <td>4</td>\n      <td>1971</td>\n      <td>2012</td>\n      <td>16/10002116_1971-05-31_2012.jpg</td>\n      <td>0.0</td>\n      <td>['Diana Damrau']</td>\n      <td>[[171.61031405  75.5745124  266.76611571 170.7...</td>\n      <td>3.408442</td>\n      <td>NaN</td>\n      <td>41</td>\n    </tr>\n    <tr>\n      <th>...</th>\n      <td>...</td>\n      <td>...</td>\n      <td>...</td>\n      <td>...</td>\n      <td>...</td>\n      <td>...</td>\n      <td>...</td>\n      <td>...</td>\n      <td>...</td>\n      <td>...</td>\n    </tr>\n    <tr>\n      <th>62323</th>\n      <td>62323</td>\n      <td>1937</td>\n      <td>1963</td>\n      <td>49/9996949_1937-04-17_1963.jpg</td>\n      <td>1.0</td>\n      <td>['Guus Haak']</td>\n      <td>[[128.92773554 128.92773554 320.11933885 320.1...</td>\n      <td>4.029268</td>\n      <td>NaN</td>\n      <td>26</td>\n    </tr>\n    <tr>\n      <th>62324</th>\n      <td>62324</td>\n      <td>1947</td>\n      <td>1970</td>\n      <td>32/9997032_1947-07-30_1970.jpg</td>\n      <td>1.0</td>\n      <td>['Nico Rijnders']</td>\n      <td>[[  1   1 285 440]]</td>\n      <td>-inf</td>\n      <td>NaN</td>\n      <td>23</td>\n    </tr>\n    <tr>\n      <th>62325</th>\n      <td>62325</td>\n      <td>1972</td>\n      <td>2013</td>\n      <td>09/9998109_1972-12-27_2013.jpg</td>\n      <td>1.0</td>\n      <td>['Michael Wiesinger']</td>\n      <td>[[169.88839786  74.31669472 235.2534231  139.6...</td>\n      <td>3.494303</td>\n      <td>NaN</td>\n      <td>41</td>\n    </tr>\n    <tr>\n      <th>62326</th>\n      <td>62326</td>\n      <td>1981</td>\n      <td>2011</td>\n      <td>00/9999400_1981-12-13_2011.jpg</td>\n      <td>1.0</td>\n      <td>['Johann Grugger']</td>\n      <td>[[1 1 1 1]]</td>\n      <td>-inf</td>\n      <td>NaN</td>\n      <td>30</td>\n    </tr>\n    <tr>\n      <th>62327</th>\n      <td>62327</td>\n      <td>1954</td>\n      <td>2008</td>\n      <td>80/999980_1954-06-11_2008.jpg</td>\n      <td>0.0</td>\n      <td>['Greta Van Susteren']</td>\n      <td>[[ 92.72633235  62.0435549  230.12083087 199.4...</td>\n      <td>5.486917</td>\n      <td>NaN</td>\n      <td>54</td>\n    </tr>\n  </tbody>\n</table>\n<p>62328 rows × 10 columns</p>\n</div>"
     },
     "execution_count": 53,
     "metadata": {},
     "output_type": "execute_result"
    }
   ],
   "source": [
    "df"
   ],
   "metadata": {
    "collapsed": false,
    "pycharm": {
     "name": "#%%\n"
    }
   }
  },
  {
   "cell_type": "code",
   "execution_count": 54,
   "outputs": [],
   "source": [
    "df = df[df[\"age\"] < 100]\n",
    "df = df[df[\"age\"] > 1]"
   ],
   "metadata": {
    "collapsed": false,
    "pycharm": {
     "name": "#%%\n"
    }
   }
  },
  {
   "cell_type": "code",
   "execution_count": 55,
   "outputs": [],
   "source": [
    "def extract_max_dim(x):\n",
    "    str_vals = x.removeprefix(\"[[\").removesuffix(\"]]\").split()\n",
    "    vals = [float(val) for val in str_vals]\n",
    "    return max(vals[2]-vals[0], vals[3]-vals[1])"
   ],
   "metadata": {
    "collapsed": false,
    "pycharm": {
     "name": "#%%\n"
    }
   }
  },
  {
   "cell_type": "code",
   "execution_count": 56,
   "outputs": [
    {
     "data": {
      "text/plain": "2        252.560000\n3        633.000000\n9        591.000000\n13       439.000000\n15       252.560000\n            ...    \n62310    333.536085\n62319    275.784281\n62320    559.000000\n62321    246.136606\n62324    439.000000\nName: max_image_dim, Length: 14811, dtype: float64"
     },
     "execution_count": 56,
     "metadata": {},
     "output_type": "execute_result"
    }
   ],
   "source": [
    "df[\"max_image_dim\"] = df.face_location.apply(lambda x: extract_max_dim(x))\n",
    "\n",
    "\n",
    "# df = df[df[\"max_image_dim\"] < 224]\n",
    "df = df[df[\"max_image_dim\"] >= 224]\n",
    "\n",
    "df[\"max_image_dim\"]\n"
   ],
   "metadata": {
    "collapsed": false,
    "pycharm": {
     "name": "#%%\n"
    }
   }
  },
  {
   "cell_type": "code",
   "execution_count": 57,
   "outputs": [],
   "source": [
    "# df = df[df[\"max_image_dim\"] < 225]"
   ],
   "metadata": {
    "collapsed": false,
    "pycharm": {
     "name": "#%%\n"
    }
   }
  },
  {
   "cell_type": "code",
   "execution_count": 58,
   "outputs": [],
   "source": [
    "# df = df[df[\"max_image_dim\"] > 64]\n"
   ],
   "metadata": {
    "collapsed": false,
    "pycharm": {
     "name": "#%%\n"
    }
   }
  },
  {
   "cell_type": "code",
   "execution_count": 59,
   "outputs": [
    {
     "data": {
      "text/plain": "       Unnamed: 0   dob  photo_taken                        full_path  gender  \\\n2               2  1948         2008    12/100012_1948-07-03_2008.jpg     1.0   \n3               3  1930         1961  65/10001965_1930-05-23_1961.jpg     1.0   \n9               9  1982         2011  22/10004122_1982-03-17_2011.jpg     1.0   \n13             13  1931         1959   22/1000522_1931-01-15_1959.jpg     0.0   \n15             15  1981         2006  47/10005947_1981-04-07_2006.jpg     0.0   \n...           ...   ...          ...                              ...     ...   \n62310       62310  1933         1963   12/9996412_1933-04-16_1963.jpg     1.0   \n62319       62319  1937         1962   24/9996824_1937-03-04_1962.jpg     1.0   \n62320       62320  1946         1968   65/9996865_1946-12-13_1968.jpg     1.0   \n62321       62321  1937         1968   38/9996938_1937-02-15_1968.jpg     1.0   \n62324       62324  1947         1970   32/9997032_1947-07-30_1970.jpg     1.0   \n\n                           name  \\\n2               ['Marc Okrand']   \n3      ['Aleksandar Matanović']   \n9              ['Daniel Smith']   \n13             ['Lee Bontecou']   \n15              ['Sharka Blue']   \n...                         ...   \n62310    ['Marcos Alonso Imaz']   \n62319      ['José Araquistáin']   \n62320         ['Pierino Prati']   \n62321          ['Coen Moulijn']   \n62324         ['Nico Rijnders']   \n\n                                           face_location  face_score  \\\n2                        [[113.52 169.84 366.08 422.4 ]]    4.329329   \n3                                    [[  1   1 634 440]]        -inf   \n9                                    [[  1   1 592 440]]        -inf   \n13                                   [[  1   1 435 440]]        -inf   \n15                       [[113.52 141.68 366.08 394.24]]    4.143016   \n...                                                  ...         ...   \n62310  [[ 38.03734277 149.50937107 371.57342767 483.0...    5.083368   \n62319  [[ 62.23872911  92.96809367 338.02301013 368.7...    2.375786   \n62320                                [[  1   1 372 560]]        -inf   \n62321  [[ 83.11220192  83.11220192 329.24880769 329.2...    3.868307   \n62324                                [[  1   1 285 440]]        -inf   \n\n       second_face_score  age  max_image_dim  \n2                    NaN   60     252.560000  \n3                    NaN   31     633.000000  \n9                    NaN   29     591.000000  \n13                   NaN   28     439.000000  \n15                   NaN   25     252.560000  \n...                  ...  ...            ...  \n62310                NaN   30     333.536085  \n62319                NaN   25     275.784281  \n62320                NaN   22     559.000000  \n62321                NaN   31     246.136606  \n62324                NaN   23     439.000000  \n\n[14811 rows x 11 columns]",
      "text/html": "<div>\n<style scoped>\n    .dataframe tbody tr th:only-of-type {\n        vertical-align: middle;\n    }\n\n    .dataframe tbody tr th {\n        vertical-align: top;\n    }\n\n    .dataframe thead th {\n        text-align: right;\n    }\n</style>\n<table border=\"1\" class=\"dataframe\">\n  <thead>\n    <tr style=\"text-align: right;\">\n      <th></th>\n      <th>Unnamed: 0</th>\n      <th>dob</th>\n      <th>photo_taken</th>\n      <th>full_path</th>\n      <th>gender</th>\n      <th>name</th>\n      <th>face_location</th>\n      <th>face_score</th>\n      <th>second_face_score</th>\n      <th>age</th>\n      <th>max_image_dim</th>\n    </tr>\n  </thead>\n  <tbody>\n    <tr>\n      <th>2</th>\n      <td>2</td>\n      <td>1948</td>\n      <td>2008</td>\n      <td>12/100012_1948-07-03_2008.jpg</td>\n      <td>1.0</td>\n      <td>['Marc Okrand']</td>\n      <td>[[113.52 169.84 366.08 422.4 ]]</td>\n      <td>4.329329</td>\n      <td>NaN</td>\n      <td>60</td>\n      <td>252.560000</td>\n    </tr>\n    <tr>\n      <th>3</th>\n      <td>3</td>\n      <td>1930</td>\n      <td>1961</td>\n      <td>65/10001965_1930-05-23_1961.jpg</td>\n      <td>1.0</td>\n      <td>['Aleksandar Matanović']</td>\n      <td>[[  1   1 634 440]]</td>\n      <td>-inf</td>\n      <td>NaN</td>\n      <td>31</td>\n      <td>633.000000</td>\n    </tr>\n    <tr>\n      <th>9</th>\n      <td>9</td>\n      <td>1982</td>\n      <td>2011</td>\n      <td>22/10004122_1982-03-17_2011.jpg</td>\n      <td>1.0</td>\n      <td>['Daniel Smith']</td>\n      <td>[[  1   1 592 440]]</td>\n      <td>-inf</td>\n      <td>NaN</td>\n      <td>29</td>\n      <td>591.000000</td>\n    </tr>\n    <tr>\n      <th>13</th>\n      <td>13</td>\n      <td>1931</td>\n      <td>1959</td>\n      <td>22/1000522_1931-01-15_1959.jpg</td>\n      <td>0.0</td>\n      <td>['Lee Bontecou']</td>\n      <td>[[  1   1 435 440]]</td>\n      <td>-inf</td>\n      <td>NaN</td>\n      <td>28</td>\n      <td>439.000000</td>\n    </tr>\n    <tr>\n      <th>15</th>\n      <td>15</td>\n      <td>1981</td>\n      <td>2006</td>\n      <td>47/10005947_1981-04-07_2006.jpg</td>\n      <td>0.0</td>\n      <td>['Sharka Blue']</td>\n      <td>[[113.52 141.68 366.08 394.24]]</td>\n      <td>4.143016</td>\n      <td>NaN</td>\n      <td>25</td>\n      <td>252.560000</td>\n    </tr>\n    <tr>\n      <th>...</th>\n      <td>...</td>\n      <td>...</td>\n      <td>...</td>\n      <td>...</td>\n      <td>...</td>\n      <td>...</td>\n      <td>...</td>\n      <td>...</td>\n      <td>...</td>\n      <td>...</td>\n      <td>...</td>\n    </tr>\n    <tr>\n      <th>62310</th>\n      <td>62310</td>\n      <td>1933</td>\n      <td>1963</td>\n      <td>12/9996412_1933-04-16_1963.jpg</td>\n      <td>1.0</td>\n      <td>['Marcos Alonso Imaz']</td>\n      <td>[[ 38.03734277 149.50937107 371.57342767 483.0...</td>\n      <td>5.083368</td>\n      <td>NaN</td>\n      <td>30</td>\n      <td>333.536085</td>\n    </tr>\n    <tr>\n      <th>62319</th>\n      <td>62319</td>\n      <td>1937</td>\n      <td>1962</td>\n      <td>24/9996824_1937-03-04_1962.jpg</td>\n      <td>1.0</td>\n      <td>['José Araquistáin']</td>\n      <td>[[ 62.23872911  92.96809367 338.02301013 368.7...</td>\n      <td>2.375786</td>\n      <td>NaN</td>\n      <td>25</td>\n      <td>275.784281</td>\n    </tr>\n    <tr>\n      <th>62320</th>\n      <td>62320</td>\n      <td>1946</td>\n      <td>1968</td>\n      <td>65/9996865_1946-12-13_1968.jpg</td>\n      <td>1.0</td>\n      <td>['Pierino Prati']</td>\n      <td>[[  1   1 372 560]]</td>\n      <td>-inf</td>\n      <td>NaN</td>\n      <td>22</td>\n      <td>559.000000</td>\n    </tr>\n    <tr>\n      <th>62321</th>\n      <td>62321</td>\n      <td>1937</td>\n      <td>1968</td>\n      <td>38/9996938_1937-02-15_1968.jpg</td>\n      <td>1.0</td>\n      <td>['Coen Moulijn']</td>\n      <td>[[ 83.11220192  83.11220192 329.24880769 329.2...</td>\n      <td>3.868307</td>\n      <td>NaN</td>\n      <td>31</td>\n      <td>246.136606</td>\n    </tr>\n    <tr>\n      <th>62324</th>\n      <td>62324</td>\n      <td>1947</td>\n      <td>1970</td>\n      <td>32/9997032_1947-07-30_1970.jpg</td>\n      <td>1.0</td>\n      <td>['Nico Rijnders']</td>\n      <td>[[  1   1 285 440]]</td>\n      <td>-inf</td>\n      <td>NaN</td>\n      <td>23</td>\n      <td>439.000000</td>\n    </tr>\n  </tbody>\n</table>\n<p>14811 rows × 11 columns</p>\n</div>"
     },
     "execution_count": 59,
     "metadata": {},
     "output_type": "execute_result"
    }
   ],
   "source": [
    "df"
   ],
   "metadata": {
    "collapsed": false,
    "pycharm": {
     "name": "#%%\n"
    }
   }
  },
  {
   "cell_type": "code",
   "execution_count": 60,
   "outputs": [
    {
     "data": {
      "text/plain": "<AxesSubplot:ylabel='Frequency'>"
     },
     "execution_count": 60,
     "metadata": {},
     "output_type": "execute_result"
    },
    {
     "data": {
      "text/plain": "<Figure size 432x288 with 1 Axes>",
      "image/png": "[encoded data removed]"
     },
     "metadata": {
      "needs_background": "light"
     },
     "output_type": "display_data"
    }
   ],
   "source": [
    "df[\"max_image_dim\"].plot.hist(bins=300)"
   ],
   "metadata": {
    "collapsed": false,
    "pycharm": {
     "name": "#%%\n"
    }
   }
  },
  {
   "cell_type": "code",
   "execution_count": 63,
   "outputs": [
    {
     "data": {
      "text/plain": "<AxesSubplot:ylabel='Frequency'>"
     },
     "execution_count": 63,
     "metadata": {},
     "output_type": "execute_result"
    },
    {
     "data": {
      "text/plain": "<Figure size 432x288 with 1 Axes>",
      "image/png": "[encoded data removed]"
     },
     "metadata": {
      "needs_background": "light"
     },
     "output_type": "display_data"
    }
   ],
   "source": [
    "df[\"age\"].plot.hist(bins=60)"
   ],
   "metadata": {
    "collapsed": false,
    "pycharm": {
     "name": "#%%\n"
    }
   }
  },
  {
   "cell_type": "code",
   "execution_count": 64,
   "outputs": [],
   "source": [
    "with open(\"../dataset/wiki_crop/updated_csv.csv\", \"w\") as f:\n",
    "    f.write(df.to_csv())"
   ],
   "metadata": {
    "collapsed": false,
    "pycharm": {
     "name": "#%%\n"
    }
   }
  },
  {
   "cell_type": "code",
   "execution_count": null,
   "outputs": [],
   "source": [],
   "metadata": {
    "collapsed": false,
    "pycharm": {
     "name": "#%%\n"
    }
   }
  }
 ],
 "metadata": {
  "kernelspec": {
   "display_name": "Python 3",
   "language": "python",
   "name": "python3"
  },
  "language_info": {
   "codemirror_mode": {
    "name": "ipython",
    "version": 2
   },
   "file_extension": ".py",
   "mimetype": "text/x-python",
   "name": "python",
   "nbconvert_exporter": "python",
   "pygments_lexer": "ipython2",
   "version": "2.7.6"
  }
 },
 "nbformat": 4,
 "nbformat_minor": 0
}